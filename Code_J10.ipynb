{
 "cells": [
  {
   "cell_type": "code",
   "execution_count": null,
   "id": "a534a540-d38e-40b2-866b-7f69c03fa583",
   "metadata": {},
   "outputs": [],
   "source": [
    "# Import necessary libraries\n",
    "import matplotlib.pyplot as plt\n",
    "import numpy as np\n",
    "\n",
    "lambda_param = 5  # mean of the Poisson distribution\n",
    "\n",
    "random_numbers = np.random.poisson(lam=lambda_param, size=1000)\n",
    "\n",
    "plt.hist(random_numbers, bins=100, color='skyblue', edgecolor='black')\n",
    "\n",
    "# Label axes\n",
    "plt.xlabel('Value')\n",
    "plt.ylabel('Frequency')\n",
    "plt.title('Histogram of 1000 Poisson Random Numbers')\n",
    "\n",
    "plt.show()\n",
    "plt.savefig('poisson_histogram.pdf')"
   ]
  },
  {
   "cell_type": "code",
   "execution_count": null,
   "id": "9eea2410-8d30-491f-b1cb-a7eee06a9f69",
   "metadata": {},
   "outputs": [],
   "source": []
  }
 ],
 "metadata": {
  "kernelspec": {
   "display_name": "Python 3 (ipykernel)",
   "language": "python",
   "name": "python3"
  },
  "language_info": {
   "codemirror_mode": {
    "name": "ipython",
    "version": 3
   },
   "file_extension": ".py",
   "mimetype": "text/x-python",
   "name": "python",
   "nbconvert_exporter": "python",
   "pygments_lexer": "ipython3",
   "version": "3.13.7"
  }
 },
 "nbformat": 4,
 "nbformat_minor": 5
}
